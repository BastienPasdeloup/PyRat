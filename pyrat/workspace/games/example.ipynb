{
 "cells": [
  {
   "cell_type": "markdown",
   "metadata": {},
   "source": [
    "<h1 style=\"background-color: gray;\n",
    "           color: black;\n",
    "           padding: 20px;\n",
    "           text-align: center;\">INFO</h1>\n",
    "\n",
    "This file defines a game in which 4 teams of players compete in a maze with mud. \\\n",
    "Objective of the game is to catch more cheese than the other teams.\n",
    "\n",
    "When running this file, it will create a PyRat game, add players to it, and start the game. \\\n",
    "This is an example, made to illustrate the use of the PyRat library. \\\n",
    "You can use it as a template to develop your own game. \\\n",
    "You can customize the game elements (maze size, number of cheese, etc.) in the `config` dictionary. \\\n",
    "Also, you can add as many teams as you want, and as many players per team as you want."
   ]
  },
  {
   "cell_type": "markdown",
   "metadata": {},
   "source": [
    "<h1 style=\"background-color: gray;\n",
    "           color: black;\n",
    "           padding: 20px;\n",
    "           text-align: center;\">IMPORTS</h1>"
   ]
  },
  {
   "cell_type": "code",
   "execution_count": null,
   "metadata": {},
   "outputs": [],
   "source": [
    "# External imports\n",
    "import sys\n",
    "import os\n",
    "import pprint\n",
    "\n",
    "# Add needed directories to the path\n",
    "sys.path.append(os.path.join(\"..\", \"players\"))\n",
    "\n",
    "# Internal imports\n",
    "from pyrat import Game\n",
    "from Random1 import Random1\n",
    "from Random2 import Random2\n",
    "from Random3 import Random3\n",
    "from Random4 import Random4"
   ]
  },
  {
   "cell_type": "markdown",
   "metadata": {},
   "source": [
    "<h1 style=\"background-color: gray;\n",
    "           color: black;\n",
    "           padding: 20px;\n",
    "           text-align: center;\">GO!</h1>"
   ]
  },
  {
   "cell_type": "code",
   "execution_count": null,
   "metadata": {},
   "outputs": [],
   "source": [
    "# Customize the game elements\n",
    "config = {\"maze_width\": 19,\n",
    "          \"maze_height\": 15,\n",
    "          \"mud_percentage\": 30.0,\n",
    "          \"mud_range\": (2, 7),\n",
    "          \"wall_percentage\": 60.0,\n",
    "          \"cell_percentage\": 90.0,\n",
    "          \"nb_cheese\": 20}"
   ]
  },
  {
   "cell_type": "code",
   "execution_count": null,
   "metadata": {},
   "outputs": [],
   "source": [
    "# Instanciate the game with the chosen configuration\n",
    "game = Game(**config)\n",
    "\n",
    "# Instanciate and register players\n",
    "# Here we make multiple teams of players, each team having a different type of player\n",
    "# Team \"Random 1\" will start at the center of the maze (default)\n",
    "team_1_name = \"Random 1\"\n",
    "team_1_skin = \"rat\"\n",
    "for i in range(4):\n",
    "    player = Random1(\"P \" + str(i+1), team_1_skin)\n",
    "    game.add_player(player, team_1_name)\n",
    "\n",
    "# Team \"Random 2\" will start at the top left corner\n",
    "# If such a cell does not exist, the players will start at the closest cell\n",
    "team_2_name = \"Random 2\"\n",
    "team_2_skin = \"python\"\n",
    "team_2_start_location = 0\n",
    "for i in range(3):\n",
    "    player = Random2(\"P \" + str(i+5), team_2_skin)\n",
    "    game.add_player(player, team_2_name, team_2_start_location)\n",
    "\n",
    "# Team \"Random 3\" will start at a random location\n",
    "# Location \"same\" indicates that the player will start at the same location as the previous player\n",
    "team_3_name = \"Random 3\"\n",
    "team_3_skin = \"default\"\n",
    "team_3_start_location = [\"random\", \"same\"]\n",
    "for i in range(2):\n",
    "    player = Random3(\"P \" + str(i+8), team_3_skin)\n",
    "    game.add_player(player, team_3_name, team_3_start_location[i])\n",
    "\n",
    "# Team \"Random 4\" will start at the the bottom right corner\n",
    "# If such a cell does not exist, the player will start at the closest cell\n",
    "team_4_name = \"Random 4\"\n",
    "team_4_skin = \"mario\"\n",
    "team_4_start_location = config[\"maze_width\"] * config[\"maze_height\"] - 1\n",
    "player = Random4(\"P 10\", team_4_skin)\n",
    "game.add_player(player, team_4_name, team_4_start_location)\n",
    "\n",
    "# Start the game and show statistics when over\n",
    "stats = game.start()"
   ]
  },
  {
   "cell_type": "code",
   "execution_count": null,
   "metadata": {},
   "outputs": [],
   "source": [
    "# Show game results\n",
    "pprint.pprint(stats)"
   ]
  }
 ],
 "metadata": {
  "kernelspec": {
   "display_name": "Python 3",
   "language": "python",
   "name": "python3"
  },
  "language_info": {
   "codemirror_mode": {
    "name": "ipython",
    "version": 3
   },
   "file_extension": ".py",
   "mimetype": "text/x-python",
   "name": "python",
   "nbconvert_exporter": "python",
   "pygments_lexer": "ipython3",
   "version": "3.10.12"
  }
 },
 "nbformat": 4,
 "nbformat_minor": 2
}
