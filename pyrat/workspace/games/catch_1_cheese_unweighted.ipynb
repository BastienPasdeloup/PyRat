{
 "cells": [
  {
   "cell_type": "markdown",
   "metadata": {},
   "source": [
    "<h1 style=\"background-color: gray;\n",
    "           color: black;\n",
    "           padding: 20px;\n",
    "           text-align: center;\">INFO</h1>\n",
    "\n",
    "This file defines a game where there is only one cheese to catch in a maze without mud. \\\n",
    "Objective of the game is to catch the cheese as fast as possible.\n",
    "\n",
    "When running this file, it will create a PyRat game, add a player to it, and start the game. \\\n",
    "Here, the player used is `Random4` for illustration purposes. \\\n",
    "Change the player to your own to test it in the game scenario."
   ]
  },
  {
   "cell_type": "markdown",
   "metadata": {},
   "source": [
    "<h1 style=\"background-color: gray;\n",
    "           color: black;\n",
    "           padding: 20px;\n",
    "           text-align: center;\">IMPORTS</h1>"
   ]
  },
  {
   "cell_type": "code",
   "execution_count": 1,
   "metadata": {},
   "outputs": [],
   "source": [
    "# External imports\n",
    "import sys\n",
    "import os\n",
    "import pprint\n",
    "\n",
    "# Add needed directories to the path\n",
    "sys.path.append(os.path.join(\"..\", \"players\"))\n",
    "\n",
    "# PyRat imports\n",
    "from pyrat import Game\n",
    "from Random1 import Random1"
   ]
  },
  {
   "cell_type": "markdown",
   "metadata": {},
   "source": [
    "<h1 style=\"background-color: gray;\n",
    "           color: black;\n",
    "           padding: 20px;\n",
    "           text-align: center;\">GO!</h1>"
   ]
  },
  {
   "cell_type": "code",
   "execution_count": 2,
   "metadata": {},
   "outputs": [],
   "source": [
    "# Customize the game elements\n",
    "config = {\"maze_width\": 19,\n",
    "          \"maze_height\": 15,\n",
    "          \"mud_percentage\": 0.0,\n",
    "          \"nb_cheese\": 1,\n",
    "          \"trace_length\": 1000}"
   ]
  },
  {
   "cell_type": "code",
   "execution_count": 3,
   "metadata": {},
   "outputs": [
    {
     "name": "stdout",
     "output_type": "stream",
     "text": [
      "{'players': {'Random 1': {'actions': {'east': 3,\n",
      "                                      'error': 0,\n",
      "                                      'miss': 0,\n",
      "                                      'mud': 0,\n",
      "                                      'north': 5,\n",
      "                                      'nothing': 9,\n",
      "                                      'south': 4,\n",
      "                                      'wall': 21,\n",
      "                                      'west': 2},\n",
      "                          'preprocessing_duration': 6.855100000000003e-05,\n",
      "                          'score': 1.0,\n",
      "                          'turn_durations': [5.0881000000000016e-05,\n",
      "                                             5.21940000000002e-05,\n",
      "                                             5.076400000000002e-05,\n",
      "                                             3.641799999999987e-05,\n",
      "                                             5.698000000000161e-05,\n",
      "                                             4.071200000000004e-05,\n",
      "                                             2.3019000000000858e-05,\n",
      "                                             2.4850999999999346e-05,\n",
      "                                             3.0452000000000257e-05,\n",
      "                                             3.304600000000012e-05,\n",
      "                                             2.2679000000001143e-05,\n",
      "                                             2.3821999999999732e-05,\n",
      "                                             2.3623000000000394e-05,\n",
      "                                             2.0950999999999956e-05,\n",
      "                                             2.6711000000002177e-05,\n",
      "                                             3.0128000000000793e-05,\n",
      "                                             2.1415999999999796e-05,\n",
      "                                             2.1511000000001834e-05,\n",
      "                                             2.2232999999999975e-05,\n",
      "                                             2.379599999999954e-05,\n",
      "                                             2.1051000000001097e-05,\n",
      "                                             6.330599999999909e-05,\n",
      "                                             2.147900000000133e-05,\n",
      "                                             2.4638000000000437e-05,\n",
      "                                             2.767199999999942e-05,\n",
      "                                             2.030199999999982e-05,\n",
      "                                             2.9180000000000178e-05,\n",
      "                                             2.3778000000002075e-05,\n",
      "                                             2.2331000000000434e-05,\n",
      "                                             2.9476000000000502e-05,\n",
      "                                             4.221299999999928e-05,\n",
      "                                             2.8836000000000833e-05,\n",
      "                                             3.5894999999997595e-05,\n",
      "                                             2.377100000000229e-05,\n",
      "                                             2.3244999999998128e-05,\n",
      "                                             2.1002000000002602e-05,\n",
      "                                             2.787699999999907e-05,\n",
      "                                             2.113899999999988e-05,\n",
      "                                             2.432700000000107e-05,\n",
      "                                             2.6008000000000975e-05,\n",
      "                                             2.4019999999999597e-05,\n",
      "                                             6.592000000000056e-05,\n",
      "                                             2.2865000000000385e-05,\n",
      "                                             2.220099999999947e-05]}},\n",
      " 'turns': 44}\n"
     ]
    }
   ],
   "source": [
    "# Instanciate the game with the chosen configuration\n",
    "game = Game(**config)\n",
    "\n",
    "# Instanciate and register player\n",
    "player = Random1()\n",
    "game.add_player(player)\n",
    "\n",
    "# Start the game and show statistics when over\n",
    "stats = game.start()\n",
    "pprint.pprint(stats)"
   ]
  },
  {
   "cell_type": "code",
   "execution_count": null,
   "metadata": {},
   "outputs": [],
   "source": []
  }
 ],
 "metadata": {
  "kernelspec": {
   "display_name": "Python 3",
   "language": "python",
   "name": "python3"
  },
  "language_info": {
   "codemirror_mode": {
    "name": "ipython",
    "version": 3
   },
   "file_extension": ".py",
   "mimetype": "text/x-python",
   "name": "python",
   "nbconvert_exporter": "python",
   "pygments_lexer": "ipython3",
   "version": "3.10.12"
  }
 },
 "nbformat": 4,
 "nbformat_minor": 2
}
